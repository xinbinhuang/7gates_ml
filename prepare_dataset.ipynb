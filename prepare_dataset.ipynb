{
 "cells": [
  {
   "cell_type": "markdown",
   "metadata": {},
   "source": [
    "# Prepare a dataset for ML"
   ]
  },
  {
   "cell_type": "markdown",
   "metadata": {},
   "source": [
    "- A high quality data is the first step to successful ML\n",
    "- Set up a pipeline to extract and prepare raw data for the model"
   ]
  },
  {
   "cell_type": "markdown",
   "metadata": {},
   "source": [
    "## Setup and Utils"
   ]
  },
  {
   "cell_type": "code",
   "execution_count": 1,
   "metadata": {},
   "outputs": [],
   "source": [
    "import pandas as pd\n",
    "import numpy as np\n",
    "from sklearn.model_selection import train_test_split\n",
    "from sklearn.datasets.samples_generator import make_classification\n",
    "from sklearn.feature_selection import VarianceThreshold\n",
    "from sklearn.pipeline import Pipeline"
   ]
  },
  {
   "cell_type": "markdown",
   "metadata": {},
   "source": [
    "## Generate fake data"
   ]
  },
  {
   "cell_type": "code",
   "execution_count": 2,
   "metadata": {},
   "outputs": [],
   "source": [
    "def make_data():\n",
    "    \n",
    "    X, y = make_classification(weights=[0.7])\n",
    "\n",
    "    # zero variance column\n",
    "    zero_col = np.zeros(shape=(100, 1))\n",
    "\n",
    "    # categorical column\n",
    "    cat_col = ['male'] * 20 + ['Male'] * 20 + ['FEMALE'] * 30 + ['CORGI'] * 15 + ['others'] * 15\n",
    "             \n",
    "    df = pd.DataFrame(data=X,\n",
    "                      columns=[f'col_{i}' for i in range(20)])\n",
    "    df['zero_col'] = zero_col\n",
    "    df['cat_col'] = cat_col\n",
    "    \n",
    "    print('Sample dim: ', df.shape)\n",
    "    print('Lable proportion: ', np.bincount(y))\n",
    "\n",
    "    return df, y\n",
    "    \n",
    "    "
   ]
  },
  {
   "cell_type": "code",
   "execution_count": 3,
   "metadata": {},
   "outputs": [
    {
     "name": "stdout",
     "output_type": "stream",
     "text": [
      "Sample dim:  (100, 22)\n",
      "Lable proportion:  [70 30]\n"
     ]
    }
   ],
   "source": [
    "features, label = make_data()"
   ]
  },
  {
   "cell_type": "markdown",
   "metadata": {},
   "source": [
    "## Clean up the data\n",
    "\n",
    "- reduce data size by change data types i.e. float64 -> float32\n",
    "- filtering out data early\n",
    "- data values that are equivalent - i.e. 'Male' vs 'male'\n",
    "- remove wrong entries\n",
    "- avoid spaces in your features name \n",
    "- one-hot-encoding"
   ]
  },
  {
   "cell_type": "code",
   "execution_count": 4,
   "metadata": {},
   "outputs": [
    {
     "name": "stdout",
     "output_type": "stream",
     "text": [
      "['male' 'Male' 'FEMALE' 'CORGI' 'others']\n"
     ]
    }
   ],
   "source": [
    "print(features['cat_col'].unique())"
   ]
  },
  {
   "cell_type": "code",
   "execution_count": 5,
   "metadata": {},
   "outputs": [
    {
     "name": "stdout",
     "output_type": "stream",
     "text": [
      "['male' 'female' 'corgi' 'others']\n"
     ]
    }
   ],
   "source": [
    "# lower case\n",
    "features['cat_col'] = features['cat_col'].str.lower()\n",
    "print(features['cat_col'].unique())"
   ]
  },
  {
   "cell_type": "code",
   "execution_count": 6,
   "metadata": {},
   "outputs": [],
   "source": [
    "# remove wrong entries\n",
    "features_filter = features.query('cat_col != \"corgi\"')"
   ]
  },
  {
   "cell_type": "code",
   "execution_count": 7,
   "metadata": {},
   "outputs": [],
   "source": [
    "features_dummy = pd.get_dummies(features_filter, prefix='gender', columns=['cat_col'])"
   ]
  },
  {
   "cell_type": "markdown",
   "metadata": {},
   "source": [
    "## Drop useless features\n",
    "\n",
    "- Features that you know is not relevant to your problem\n",
    "- A feature that is linear combination of other features\n",
    "- Features that has little variance"
   ]
  },
  {
   "cell_type": "code",
   "execution_count": 8,
   "metadata": {},
   "outputs": [],
   "source": [
    "try: \n",
    "    features_dummy.drop('gender_others', axis=1, inplace=True)\n",
    "except KeyError:\n",
    "    pass"
   ]
  },
  {
   "cell_type": "code",
   "execution_count": 9,
   "metadata": {},
   "outputs": [],
   "source": [
    "def drop_zero_var_col(df):\n",
    "    selector = VarianceThreshold()\n",
    "    selector.fit(df)\n",
    "    non_zero_var_col_mask = selector.get_support(indices=False)\n",
    "    \n",
    "    return df.loc[:, non_zero_var_col_mask]"
   ]
  },
  {
   "cell_type": "code",
   "execution_count": 10,
   "metadata": {},
   "outputs": [],
   "source": [
    "final_features = drop_zero_var_col(features_dummy).shape"
   ]
  },
  {
   "cell_type": "markdown",
   "metadata": {},
   "source": [
    "## Missing values\n",
    "\n",
    "- Find out the reason that is missing\n",
    "- Drop them if not a log\n",
    "- Common method:\n",
    "    - A constant value i.e. -99\n",
    "    - mean, median, mode\n",
    "    - statistical models\n",
    "- You don't know which one is good until you evaluate your model"
   ]
  },
  {
   "cell_type": "markdown",
   "metadata": {},
   "source": [
    "## Create your training and testing set (train-test-split)"
   ]
  },
  {
   "cell_type": "markdown",
   "metadata": {},
   "source": [
    "![](https://miro.medium.com/max/764/0*46cSU6wIIOztcY5P.)"
   ]
  },
  {
   "cell_type": "markdown",
   "metadata": {},
   "source": [
    "Something to keep in mind\n",
    "\n",
    "- Always set a seed so you can compare\n",
    "- Test size is traditionally 80/20 \n",
    "- Do not shuffle if you are dealing with time series\n",
    "- Stratification is essential when you are dealing with unbalanced labels"
   ]
  },
  {
   "cell_type": "markdown",
   "metadata": {},
   "source": [
    "Common Mistakes (data leakage)\n",
    "- Time Series: Incorporating information from the future in your model (i.e., quarterly results before end-of-quarter)\n",
    "- Imputing based on the combined train-test dataset\n",
    "- Taking a peek on the test data halfway through training your model"
   ]
  },
  {
   "cell_type": "code",
   "execution_count": 11,
   "metadata": {},
   "outputs": [],
   "source": [
    "(train_features, test_features,\n",
    " train_label, test_label) = train_test_split(\n",
    "    features,\n",
    "    label,\n",
    "    random_state=613,\n",
    "    shuffle=True,\n",
    "    test_size=0.20, # This is fine enough\n",
    "    stratify=label\n",
    ")"
   ]
  },
  {
   "cell_type": "code",
   "execution_count": 12,
   "metadata": {},
   "outputs": [],
   "source": [
    "# save your training test set for future reference and usage\n",
    "# train_features.to_csv('train_X.csv'); test_features.to_csv('test_X.csv')\n",
    "# train_label.to_csv('train_y.csv'); test_label.to_csv('test_X.csv')"
   ]
  },
  {
   "cell_type": "markdown",
   "metadata": {},
   "source": [
    "## Others?\n",
    "\n",
    "- Use [sklearn.pipeline.Pipeline](https://scikit-learn.org/stable/modules/generated/sklearn.pipeline.Pipeline.html#sklearn.pipeline.Pipeline) to make a Pipeline from transforming data to training model\n",
    "- Use [cross-Validation](https://scikit-learn.org/stable/modules/cross_validation.html) when you have a small data set (or even you have a huge data set)\n",
    "- [Data normlization](https://scikit-learn.org/stable/modules/preprocessing.html)\n",
    "- Outliers..."
   ]
  },
  {
   "cell_type": "markdown",
   "metadata": {},
   "source": [
    "## Summary\n",
    "\n",
    "- Adjust data type & fix erroneous values\n",
    "- Select only features that are relevant\n",
    "- Remove data with (near-) 0 variance\n",
    "- One-hot-encoding for categorical variable\n",
    "- Always split your data into train/test "
   ]
  },
  {
   "cell_type": "markdown",
   "metadata": {},
   "source": [
    " "
   ]
  },
  {
   "cell_type": "markdown",
   "metadata": {},
   "source": [
    " \n",
    " "
   ]
  },
  {
   "cell_type": "markdown",
   "metadata": {},
   "source": [
    " "
   ]
  },
  {
   "cell_type": "markdown",
   "metadata": {},
   "source": [
    "## Bonus: Tips, tricks"
   ]
  },
  {
   "cell_type": "markdown",
   "metadata": {},
   "source": [
    "- there are many ways to do the same thing in Pandas\n",
    "- Some better, some worse, some equvilaent. But again, there are a lot.....\n",
    "- Let's standardize some of them to make our life easier"
   ]
  },
  {
   "cell_type": "markdown",
   "metadata": {},
   "source": [
    "### Select rows and columns\n",
    "\n",
    "- we have some options here: dot notation, .iloc, .loc, \\[](\\_\\_getitem__)\n",
    "- avoid dot notation\n",
    "- Prefer `.iloc[]` and `.loc[]`\n",
    "- For performance: query()"
   ]
  },
  {
   "cell_type": "code",
   "execution_count": 13,
   "metadata": {},
   "outputs": [],
   "source": [
    "def generate_data(n_row=1000, n_num_col=10):\n",
    "    '''Generate fake data\n",
    "    Args:\n",
    "        n_row(int): number of rows for the data\n",
    "        n_num_col(int): number of numeric columns\n",
    "    \n",
    "    Returns:\n",
    "        pandas.DataFrame with the allocated size.\n",
    "    '''\n",
    "    if (n_row <= 0 and n_num_col <= 0):\n",
    "        raise ValueError('Check your dimension. should be both integers larger than zero')\n",
    "        \n",
    "    cols = [f'col_{i}' for i in range(n_num_col)]\n",
    "    output = pd.DataFrame(\n",
    "        data=np.random.randn(n_row, n_num_col).astype('float32'),\n",
    "        columns=cols)\n",
    "    return output"
   ]
  },
  {
   "cell_type": "code",
   "execution_count": 14,
   "metadata": {},
   "outputs": [
    {
     "name": "stdout",
     "output_type": "stream",
     "text": [
      "<class 'pandas.core.frame.DataFrame'>\n",
      "RangeIndex: 1000000 entries, 0 to 999999\n",
      "Data columns (total 10 columns):\n",
      "col_0    1000000 non-null float32\n",
      "col_1    1000000 non-null float32\n",
      "col_2    1000000 non-null float32\n",
      "col_3    1000000 non-null float32\n",
      "col_4    1000000 non-null float32\n",
      "col_5    1000000 non-null float32\n",
      "col_6    1000000 non-null float32\n",
      "col_7    1000000 non-null float32\n",
      "col_8    1000000 non-null float32\n",
      "col_9    1000000 non-null float32\n",
      "dtypes: float32(10)\n",
      "memory usage: 38.1 MB\n"
     ]
    }
   ],
   "source": [
    "small_data = generate_data(int(1e6), 10)\n",
    "small_data.info()"
   ]
  },
  {
   "cell_type": "markdown",
   "metadata": {},
   "source": [
    "This data is aroudn ~38.1 MB"
   ]
  },
  {
   "cell_type": "markdown",
   "metadata": {},
   "source": [
    "### Select only one column\n",
    "- avoid dot notation\n",
    "    - it cannot be used when there is a space in the column (i.e. 'col 1')\n",
    "    - may get into conflicts with object methods (i.e. column 'loc' for location)\n",
    "    - hard to read\n",
    "- Prefer .loc for consitency and readbility\n",
    "- df['col'] is okay.."
   ]
  },
  {
   "cell_type": "code",
   "execution_count": 15,
   "metadata": {},
   "outputs": [],
   "source": [
    "# bad\n",
    "# small_data.col_1\n",
    "\n",
    "# good\n",
    "assert(small_data['col_1'] is small_data.loc[:, 'col_1'])"
   ]
  },
  {
   "cell_type": "markdown",
   "metadata": {},
   "source": [
    "#### Slicing rows and columns\n",
    "- `.iloc()` does not include the right bound \n",
    "- `.loc()`  include the right bound"
   ]
  },
  {
   "cell_type": "code",
   "execution_count": 16,
   "metadata": {},
   "outputs": [],
   "source": [
    "assert(small_data.iloc[:1000, :5]                 # position indexing\n",
    "       .equals(\n",
    "       small_data.loc[:999, 'col_0':'col_4']      # lable indexing\n",
    "       )\n",
    ")\n"
   ]
  },
  {
   "cell_type": "markdown",
   "metadata": {},
   "source": [
    "### .query() for performance\n",
    "\n",
    "- Use [numepxr](https://github.com/pydata/numexpr) under the hood.\n",
    "- multi-threaded, less memory, use VML "
   ]
  },
  {
   "cell_type": "markdown",
   "metadata": {},
   "source": [
    "Here cannot really see the difference. But depends on the operation, it will be a huge performance gain."
   ]
  },
  {
   "cell_type": "code",
   "execution_count": 17,
   "metadata": {},
   "outputs": [
    {
     "name": "stdout",
     "output_type": "stream",
     "text": [
      "12.4 ms ± 169 µs per loop (mean ± std. dev. of 7 runs, 100 loops each)\n"
     ]
    }
   ],
   "source": [
    "%timeit small_data.query('col_1 > 0 & col_2 > 0')"
   ]
  },
  {
   "cell_type": "code",
   "execution_count": 18,
   "metadata": {},
   "outputs": [
    {
     "name": "stdout",
     "output_type": "stream",
     "text": [
      "14.7 ms ± 293 µs per loop (mean ± std. dev. of 7 runs, 100 loops each)\n"
     ]
    }
   ],
   "source": [
    "%timeit small_data.loc[(small_data['col_1'] > 0) & (small_data['col_2'] > 0)]"
   ]
  },
  {
   "cell_type": "markdown",
   "metadata": {},
   "source": [
    "## NA related methods: `isna` and `isnull`"
   ]
  },
  {
   "cell_type": "markdown",
   "metadata": {},
   "source": [
    "- we have `isna`, `isnull`, `notna`, `notnull`\n",
    "- Others: `dropna` and `fillna`.\n",
    "- `*na` and `*null` are the same, they are alias\n",
    "- use `*na` only to match the other `na` methods\n",
    "- Source https://github.com/pandas-dev/pandas/blob/cb00deb94500205fcb27a33cc1d0df79a9727f8b/pandas/core/dtypes/missing.py#L102\n"
   ]
  },
  {
   "cell_type": "markdown",
   "metadata": {},
   "source": [
    "## Best way to loop over a dataframe"
   ]
  },
  {
   "cell_type": "markdown",
   "metadata": {},
   "source": [
    "- For details and benchmark, please refer to [A Beginner’s Guide to Optimizing Pandas Code for Speed](https://engineering.upside.com/a-beginners-guide-to-optimizing-pandas-code-for-speed-c09ef2c6a4d6)\n",
    "\n",
    "#### TL;DR - from the slowest to the fastest\n",
    "\n",
    "1. Crude looping over DataFrame rows using indices `for ...`\n",
    "2. Looping with iterrows()\n",
    "3. Looping with apply()\n",
    "4. Vectorization with Pandas series\n",
    "5. Vectorization with NumPy arrays"
   ]
  },
  {
   "cell_type": "code",
   "execution_count": null,
   "metadata": {},
   "outputs": [],
   "source": []
  }
 ],
 "metadata": {
  "kernelspec": {
   "display_name": "Python 3",
   "language": "python",
   "name": "python3"
  },
  "language_info": {
   "codemirror_mode": {
    "name": "ipython",
    "version": 3
   },
   "file_extension": ".py",
   "mimetype": "text/x-python",
   "name": "python",
   "nbconvert_exporter": "python",
   "pygments_lexer": "ipython3",
   "version": "3.7.3"
  }
 },
 "nbformat": 4,
 "nbformat_minor": 2
}
